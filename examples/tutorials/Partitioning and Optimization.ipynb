{
 "cells": [
  {
   "cell_type": "markdown",
   "id": "dadc6bf7",
   "metadata": {},
   "source": [
    "# Using Partitioning to Optimize a Circuit\n",
    "\n",
    "Synthesis is a very powerful circuit optimization technique. However, the input size to even QFAST doesn't scale to larger circuits well. In fact, to be able to synthesize a circuit currently, we will need to be able to simulate it. This will ultimately cap the scaling of synthesis algorithms. However, we can still use a synthesis tool together with partitioner to optimize small blocks of a circuit at a time. BQSKit was designed for this exact use case and in this guide, we will explore how to accomplish this. It is recommended that you read the other tutorials first."
   ]
  },
  {
   "cell_type": "code",
   "execution_count": null,
   "id": "6040e7d4",
   "metadata": {},
   "outputs": [],
   "source": [
    "# Load a 16-qubit time evolution circuit generated from the ArQTIC circuit generator.\n",
    "from bqskit.ir import Circuit\n",
    "\n",
    "circuit = Circuit.from_file('tfim-16-20.qasm')\n",
    "\n",
    "for gate in circuit.gate_set:\n",
    "    print(f\"{gate} Count:\", circuit.count(gate))"
   ]
  },
  {
   "cell_type": "markdown",
   "id": "563b666f",
   "metadata": {},
   "source": [
    "We will partition the circuit and then use the `ForEachBlockPass` to perform operations on the individual blocks. Note the `ForEachBlockPass` will run the sub tasks in parallel using dask."
   ]
  },
  {
   "cell_type": "code",
   "execution_count": null,
   "id": "2bc9f3de",
   "metadata": {},
   "outputs": [],
   "source": [
    "from bqskit.compiler import CompilationTask\n",
    "from bqskit.compiler import Compiler\n",
    "from bqskit.passes import QuickPartitioner\n",
    "from bqskit.passes import ForEachBlockPass\n",
    "from bqskit.passes import QSearchSynthesisPass\n",
    "from bqskit.passes import ScanningGateRemovalPass\n",
    "from bqskit.passes import UnfoldPass\n",
    "\n",
    "task = CompilationTask(circuit, [\n",
    "    QuickPartitioner(3),\n",
    "    ForEachBlockPass([QSearchSynthesisPass(), ScanningGateRemovalPass()]),\n",
    "    UnfoldPass(),\n",
    "])\n",
    "\n",
    "# Finally, we construct a compiler and submit the task\n",
    "with Compiler() as compiler:\n",
    "    synthesized_circuit = compiler.compile(task)\n",
    "    \n",
    "for gate in synthesized_circuit.gate_set:\n",
    "    print(f\"{gate} Count:\", synthesized_circuit.count(gate))"
   ]
  },
  {
   "cell_type": "markdown",
   "id": "167b57d7",
   "metadata": {},
   "source": [
    "## Gatesets\n",
    "\n",
    "Just like we changed the gates used by QSearch in the Search Synthesis tutorial, we can change the gates for the entire circuit using the same method.\n",
    "\n",
    "**Exercise:** Change the gates used in the below example to change the gate set for the circuit."
   ]
  },
  {
   "cell_type": "code",
   "execution_count": null,
   "id": "0fa0d004",
   "metadata": {},
   "outputs": [],
   "source": [
    "from bqskit.ir.gates import ISwapGate, U3Gate\n",
    "from bqskit.passes.search import SimpleLayerGenerator\n",
    "\n",
    "layer_gen = SimpleLayerGenerator(two_qudit_gate=ISwapGate(), single_qudit_gate_1=U3Gate())\n",
    "\n",
    "configured_qsearch_pass = QSearchSynthesisPass(layer_generator=layer_gen)\n",
    "\n",
    "task = CompilationTask(circuit, [\n",
    "    QuickPartitioner(3),\n",
    "    ForEachBlockPass([configured_qsearch_pass, ScanningGateRemovalPass()]),\n",
    "    UnfoldPass(),\n",
    "])\n",
    "\n",
    "with Compiler() as compiler:\n",
    "    synthesized_circuit = compiler.compile(task)\n",
    "    \n",
    "for gate in synthesized_circuit.gate_set:\n",
    "    print(f\"{gate} Count:\", synthesized_circuit.count(gate))"
   ]
  },
  {
   "cell_type": "markdown",
   "id": "298f942d",
   "metadata": {},
   "source": [
    "## Block Size\n",
    "\n",
    "Increasing the partitioner's block size will likely lead to better results at a runtime cost. If you have the computing resources, you can launch a Dask cluster and connect to it via `Compiler()`. The ForEachBlockPass will efficiently distribute the work."
   ]
  },
  {
   "cell_type": "code",
   "execution_count": null,
   "id": "5e06ba4a",
   "metadata": {},
   "outputs": [],
   "source": [
    "from bqskit.passes import OptimizedLEAPPass\n",
    "\n",
    "\n",
    "task = CompilationTask(circuit, [\n",
    "    QuickPartitioner(4),\n",
    "    ForEachBlockPass([OptimizedLEAPPass]),\n",
    "    UnfoldPass(),\n",
    "])\n",
    "\n",
    "with Compiler() as compiler:\n",
    "    synthesized_circuit = compiler.compile(task)\n",
    "    \n",
    "for gate in synthesized_circuit.gate_set:\n",
    "    print(f\"{gate} Count:\", synthesized_circuit.count(gate))"
   ]
  }
 ],
 "metadata": {
  "kernelspec": {
   "display_name": "Python 3 (ipykernel)",
   "language": "python",
   "name": "python3"
  },
  "language_info": {
   "codemirror_mode": {
    "name": "ipython",
    "version": 3
   },
   "file_extension": ".py",
   "mimetype": "text/x-python",
   "name": "python",
   "nbconvert_exporter": "python",
   "pygments_lexer": "ipython3",
   "version": "3.9.7"
  }
 },
 "nbformat": 4,
 "nbformat_minor": 5
}
