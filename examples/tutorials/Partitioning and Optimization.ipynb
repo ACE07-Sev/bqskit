{
 "cells": [
  {
   "cell_type": "markdown",
   "id": "dadc6bf7",
   "metadata": {},
   "source": [
    "# Using Partitioning to Optimize a Circuit\n",
    "\n",
    "Synthesis is a very powerful circuit optimization technique. However, the input size to even QFAST doesn't scale to larger circuits well. In fact, to be able to synthesize a circuit currently, we will need to be able to simulate it. This will ultimately cap the scaling of synthesis algorithms. However, we can still use a synthesis tool together with partitioner to optimize small blocks of a circuit at a time. BQSKit was designed for this exact use case and in this guide, we will explore how to accomplish this. It is recommended that you read the other tutorials first."
   ]
  },
  {
   "cell_type": "code",
   "execution_count": 1,
   "id": "6040e7d4",
   "metadata": {},
   "outputs": [
    {
     "name": "stdout",
     "output_type": "stream",
     "text": [
      "HGate Count: 240\n",
      "RXGate Count: 240\n",
      "XGate Count: 8\n",
      "RZGate Count: 180\n",
      "CNOTGate Count: 360\n"
     ]
    }
   ],
   "source": [
    "# Load a 16-qubit time evolution circuit generated from the ArQTIC circuit generator.\n",
    "from bqskit.ir import Circuit\n",
    "\n",
    "circuit = Circuit.from_file('heisenberg-16-20.qasm')\n",
    "\n",
    "for gate in circuit.gate_set:\n",
    "    print(f\"{gate} Count:\", circuit.count(gate))"
   ]
  },
  {
   "attachments": {},
   "cell_type": "markdown",
   "id": "563b666f",
   "metadata": {},
   "source": [
    "We will partition the circuit and then use the `ForEachBlockPass` to perform operations on the individual blocks. Note the `ForEachBlockPass` will run the sub tasks in parallel."
   ]
  },
  {
   "cell_type": "code",
   "execution_count": 2,
   "id": "2bc9f3de",
   "metadata": {},
   "outputs": [
    {
     "name": "stdout",
     "output_type": "stream",
     "text": [
      "RYGate Count: 292\n",
      "RXGate Count: 115\n",
      "U3Gate Count: 134\n",
      "RZGate Count: 162\n",
      "CNOTGate Count: 244\n"
     ]
    }
   ],
   "source": [
    "from bqskit.compiler import CompilationTask\n",
    "from bqskit.compiler import Compiler\n",
    "from bqskit.passes import QuickPartitioner\n",
    "from bqskit.passes import ForEachBlockPass\n",
    "from bqskit.passes import QSearchSynthesisPass\n",
    "from bqskit.passes import ScanningGateRemovalPass\n",
    "from bqskit.passes import UnfoldPass\n",
    "\n",
    "# Finally, we construct a compiler and pass the circuit\n",
    "# and workflow to it.\n",
    "with Compiler() as compiler:\n",
    "    synthesized_circuit = compiler.compile(\n",
    "        circuit,\n",
    "        [\n",
    "            QuickPartitioner(3),\n",
    "            ForEachBlockPass([QSearchSynthesisPass(), ScanningGateRemovalPass()]),\n",
    "            UnfoldPass(),\n",
    "        ]\n",
    "    )\n",
    "\n",
    "for gate in synthesized_circuit.gate_set:\n",
    "    print(f\"{gate} Count:\", synthesized_circuit.count(gate))"
   ]
  },
  {
   "cell_type": "markdown",
   "id": "05e5c54e",
   "metadata": {},
   "source": [
    "**Replace Filters**\n",
    "\n",
    "The `ForEachBlockPass` takes an optional parameter `replace_filter` that determines if the circuit resulting from running the input passes on the original block should replace the original block. In the below example, we alter the above flow to only replace a block if it has fewer two-qubit gates as a result of running `QSearchSynthesisPass` and `ScanningGateRemovalPass`.\n",
    "\n",
    "**Exercise:** Try changing the replace filter to suite your needs. You might want to select circuits with greater parallelism: `circuit.parallelism` or choose based on depth `circuit.depth`. "
   ]
  },
  {
   "cell_type": "code",
   "execution_count": 3,
   "id": "d0613862",
   "metadata": {},
   "outputs": [
    {
     "name": "stdout",
     "output_type": "stream",
     "text": [
      "RYGate Count: 76\n",
      "HGate Count: 165\n",
      "RXGate Count: 179\n",
      "U3Gate Count: 79\n",
      "XGate Count: 7\n",
      "RZGate Count: 139\n",
      "CNOTGate Count: 236\n"
     ]
    }
   ],
   "source": [
    "from bqskit.ir.gates import CXGate\n",
    "\n",
    "def less_2q_gates(result_circuit, initial_block_as_op):\n",
    "    begin_cx_count = initial_block_as_op.gate._circuit.count(CXGate())\n",
    "    end_cx_count = result_circuit.count(CXGate())\n",
    "    return end_cx_count < begin_cx_count\n",
    "\n",
    "# Finally, we construct a compiler and pass the circuit\n",
    "# and workflow to it.\n",
    "with Compiler() as compiler:\n",
    "    synthesized_circuit = compiler.compile(\n",
    "        circuit,\n",
    "        [\n",
    "            QuickPartitioner(3),\n",
    "            ForEachBlockPass(\n",
    "                [QSearchSynthesisPass(), ScanningGateRemovalPass()],\n",
    "                replace_filter=less_2q_gates\n",
    "            ),\n",
    "            UnfoldPass(),\n",
    "        ]\n",
    "    )\n",
    "\n",
    "for gate in synthesized_circuit.gate_set:\n",
    "    print(f\"{gate} Count:\", synthesized_circuit.count(gate))"
   ]
  },
  {
   "cell_type": "markdown",
   "id": "167b57d7",
   "metadata": {},
   "source": [
    "## Gatesets\n",
    "\n",
    "Just like we changed the gates used by QSearch in the Search Synthesis tutorial, we can change the gates for the entire circuit using the same method.\n",
    "\n",
    "**Exercise:** Change the gates used in the below example to change the gate set for the circuit."
   ]
  },
  {
   "cell_type": "code",
   "execution_count": 4,
   "id": "0fa0d004",
   "metadata": {},
   "outputs": [
    {
     "name": "stdout",
     "output_type": "stream",
     "text": [
      "U3Gate Count: 478\n",
      "ISwapGate Count: 242\n"
     ]
    }
   ],
   "source": [
    "from bqskit.ir.gates import ISwapGate, U3Gate\n",
    "from bqskit.passes.search import SimpleLayerGenerator\n",
    "\n",
    "layer_gen = SimpleLayerGenerator(two_qudit_gate=ISwapGate(), single_qudit_gate_1=U3Gate())\n",
    "\n",
    "configured_qsearch_pass = QSearchSynthesisPass(layer_generator=layer_gen)\n",
    "\n",
    "with Compiler() as compiler:\n",
    "    synthesized_circuit = compiler.compile(\n",
    "        circuit,\n",
    "        [\n",
    "            QuickPartitioner(3),\n",
    "            ForEachBlockPass([configured_qsearch_pass, ScanningGateRemovalPass()]),\n",
    "            UnfoldPass(),\n",
    "        ]\n",
    "    )\n",
    "\n",
    "for gate in synthesized_circuit.gate_set:\n",
    "    print(f\"{gate} Count:\", synthesized_circuit.count(gate))"
   ]
  },
  {
   "cell_type": "markdown",
   "id": "298f942d",
   "metadata": {},
   "source": [
    "## Block Size\n",
    "\n",
    "Increasing the partitioner's block size will likely lead to better results at a runtime cost. If you have the computing resources, you can launch a Dask cluster and connect to it via `Compiler()`. The ForEachBlockPass will efficiently distribute the work. See the [Dask documentation](https://docs.dask.org/en/stable/setup.html) for how to launch a cluster."
   ]
  },
  {
   "cell_type": "code",
   "execution_count": 5,
   "id": "5e06ba4a",
   "metadata": {},
   "outputs": [
    {
     "name": "stdout",
     "output_type": "stream",
     "text": [
      "RYGate Count: 606\n",
      "RXGate Count: 303\n",
      "U3Gate Count: 226\n",
      "RZGate Count: 303\n",
      "CNOTGate Count: 303\n"
     ]
    }
   ],
   "source": [
    "from bqskit.passes import LEAPSynthesisPass\n",
    "\n",
    "with Compiler() as compiler:\n",
    "    synthesized_circuit = compiler.compile(\n",
    "        circuit,\n",
    "        [\n",
    "            QuickPartitioner(4),\n",
    "            ForEachBlockPass([LEAPSynthesisPass()]),\n",
    "            UnfoldPass(),\n",
    "        ]\n",
    "    )\n",
    "\n",
    "for gate in synthesized_circuit.gate_set:\n",
    "    print(f\"{gate} Count:\", synthesized_circuit.count(gate))"
   ]
  },
  {
   "cell_type": "markdown",
   "id": "036d374f",
   "metadata": {},
   "source": [
    "## Iterative Optimization\n",
    "\n",
    "We have provided support for passes that manage control flow. This enables us to conditionally apply passes or to apply them in a loop. In the below example we will run the partitioning and synthesis sequence in a loop until the circuit stops decreasing in 2-qubit gate count."
   ]
  },
  {
   "cell_type": "code",
   "execution_count": 10,
   "id": "583a4c22",
   "metadata": {},
   "outputs": [
    {
     "ename": "RuntimeError",
     "evalue": "Server connection unexpectedly closed.",
     "output_type": "error",
     "traceback": [
      "\u001b[31m---------------------------------------------------------------------------\u001b[39m",
      "\u001b[31mRuntimeError\u001b[39m                              Traceback (most recent call last)",
      "\u001b[36mFile \u001b[39m\u001b[32mc:\\Users\\A.C.EA\\Documents\\GitHub\\bqskit\\.venv\\Lib\\site-packages\\bqskit\\compiler\\compiler.py:439\u001b[39m, in \u001b[36mCompiler._send_recv\u001b[39m\u001b[34m(self, msg, payload)\u001b[39m\n\u001b[32m    437\u001b[39m     \u001b[38;5;28mself\u001b[39m.conn.send((msg, payload))\n\u001b[32m--> \u001b[39m\u001b[32m439\u001b[39m     \u001b[38;5;28;01mreturn\u001b[39;00m \u001b[38;5;28;43mself\u001b[39;49m\u001b[43m.\u001b[49m\u001b[43m_recv_handle_log_error\u001b[49m\u001b[43m(\u001b[49m\u001b[43m)\u001b[49m\n\u001b[32m    441\u001b[39m \u001b[38;5;28;01mexcept\u001b[39;00m \u001b[38;5;167;01mException\u001b[39;00m \u001b[38;5;28;01mas\u001b[39;00m e:\n",
      "\u001b[36mFile \u001b[39m\u001b[32mc:\\Users\\A.C.EA\\Documents\\GitHub\\bqskit\\.venv\\Lib\\site-packages\\bqskit\\compiler\\compiler.py:467\u001b[39m, in \u001b[36mCompiler._recv_handle_log_error\u001b[39m\u001b[34m(self)\u001b[39m\n\u001b[32m    466\u001b[39m \u001b[38;5;28;01melif\u001b[39;00m msg == RuntimeMessage.ERROR:\n\u001b[32m--> \u001b[39m\u001b[32m467\u001b[39m     \u001b[38;5;28;01mraise\u001b[39;00m \u001b[38;5;167;01mRuntimeError\u001b[39;00m(payload)\n\u001b[32m    469\u001b[39m \u001b[38;5;28;01melse\u001b[39;00m:\n\u001b[32m    470\u001b[39m     \u001b[38;5;66;03m# Communication between runtime server and compiler\u001b[39;00m\n\u001b[32m    471\u001b[39m     \u001b[38;5;66;03m# is always round-trip. Once we have received our\u001b[39;00m\n\u001b[32m   (...)\u001b[39m\u001b[32m    476\u001b[39m     \u001b[38;5;66;03m# process every arrived message before returning.\u001b[39;00m\n\u001b[32m    477\u001b[39m     \u001b[38;5;66;03m# Hence, the `or self.conn.poll()` in the while condition.\u001b[39;00m\n",
      "\u001b[31mRuntimeError\u001b[39m: Traceback (most recent call last):\n  File \"c:\\Users\\A.C.EA\\Documents\\GitHub\\bqskit\\.venv\\Lib\\site-packages\\bqskit\\runtime\\worker.py\", line 462, in _try_step_next_ready_task\n    future = task.step(self._get_desired_result(task))\n             ^^^^^^^^^^^^^^^^^^^^^^^^^^^^^^^^^^^^^^^^^\n  File \"c:\\Users\\A.C.EA\\Documents\\GitHub\\bqskit\\.venv\\Lib\\site-packages\\bqskit\\runtime\\task.py\", line 115, in step\n    to_return = self.coro.send(send_val)\n                ^^^^^^^^^^^^^^^^^^^^^^^^\n  File \"c:\\Users\\A.C.EA\\Documents\\GitHub\\bqskit\\.venv\\Lib\\site-packages\\bqskit\\runtime\\task.py\", line 149, in run\n    return await self.fnargs[0](*self.fnargs[1], **self.fnargs[2])\n           ^^^^^^^^^^^^^^^^^^^^^^^^^^^^^^^^^^^^^^^^^^^^^^^^^^^^^^^\n  File \"c:\\Users\\A.C.EA\\Documents\\GitHub\\bqskit\\.venv\\Lib\\site-packages\\bqskit\\compiler\\task.py\", line 54, in run\n    await self.workflow.run(self.circuit, self.data)\n  File \"c:\\Users\\A.C.EA\\Documents\\GitHub\\bqskit\\.venv\\Lib\\site-packages\\bqskit\\compiler\\workflow.py\", line 75, in run\n    await pass_obj.run(circuit, data)\nTypeError: object NoneType can't be used in 'await' expression\n",
      "\nThe above exception was the direct cause of the following exception:\n",
      "\u001b[31mRuntimeError\u001b[39m                              Traceback (most recent call last)",
      "\u001b[36mCell\u001b[39m\u001b[36m \u001b[39m\u001b[32mIn[10]\u001b[39m\u001b[32m, line 12\u001b[39m\n\u001b[32m      9\u001b[39m         \u001b[38;5;28mprint\u001b[39m(\u001b[33m\"\u001b[39m\u001b[33mCurrent CNOT count:\u001b[39m\u001b[33m\"\u001b[39m, circuit.count(CXGate()))\n\u001b[32m     11\u001b[39m \u001b[38;5;28;01mwith\u001b[39;00m Compiler() \u001b[38;5;28;01mas\u001b[39;00m compiler:\n\u001b[32m---> \u001b[39m\u001b[32m12\u001b[39m     synthesized_circuit = \u001b[43mcompiler\u001b[49m\u001b[43m.\u001b[49m\u001b[43mcompile\u001b[49m\u001b[43m(\u001b[49m\n\u001b[32m     13\u001b[39m \u001b[43m        \u001b[49m\u001b[43mcircuit\u001b[49m\u001b[43m,\u001b[49m\n\u001b[32m     14\u001b[39m \u001b[43m        \u001b[49m\u001b[43m[\u001b[49m\n\u001b[32m     15\u001b[39m \u001b[43m            \u001b[49m\u001b[43mPrintCNOTsPass\u001b[49m\u001b[43m(\u001b[49m\u001b[43m)\u001b[49m\u001b[43m,\u001b[49m\n\u001b[32m     16\u001b[39m \u001b[43m            \u001b[49m\u001b[43mWhileLoopPass\u001b[49m\u001b[43m(\u001b[49m\n\u001b[32m     17\u001b[39m \u001b[43m                \u001b[49m\u001b[43mGateCountPredicate\u001b[49m\u001b[43m(\u001b[49m\u001b[43mCXGate\u001b[49m\u001b[43m(\u001b[49m\u001b[43m)\u001b[49m\u001b[43m)\u001b[49m\u001b[43m,\u001b[49m\n\u001b[32m     18\u001b[39m \u001b[43m                \u001b[49m\u001b[43m[\u001b[49m\n\u001b[32m     19\u001b[39m \u001b[43m                    \u001b[49m\u001b[43mQuickPartitioner\u001b[49m\u001b[43m(\u001b[49m\u001b[32;43m3\u001b[39;49m\u001b[43m)\u001b[49m\u001b[43m,\u001b[49m\n\u001b[32m     20\u001b[39m \u001b[43m                    \u001b[49m\u001b[43mForEachBlockPass\u001b[49m\u001b[43m(\u001b[49m\n\u001b[32m     21\u001b[39m \u001b[43m                        \u001b[49m\u001b[43m[\u001b[49m\n\u001b[32m     22\u001b[39m \u001b[43m                            \u001b[49m\u001b[43mQSearchSynthesisPass\u001b[49m\u001b[43m(\u001b[49m\u001b[43m)\u001b[49m\u001b[43m,\u001b[49m\n\u001b[32m     23\u001b[39m \u001b[43m                            \u001b[49m\u001b[43mScanningGateRemovalPass\u001b[49m\u001b[43m(\u001b[49m\u001b[43m)\u001b[49m\n\u001b[32m     24\u001b[39m \u001b[43m                        \u001b[49m\u001b[43m]\u001b[49m\u001b[43m,\u001b[49m\n\u001b[32m     25\u001b[39m \u001b[43m                        \u001b[49m\u001b[43mreplace_filter\u001b[49m\u001b[43m=\u001b[49m\u001b[43mless_2q_gates\u001b[49m\n\u001b[32m     26\u001b[39m \u001b[43m                    \u001b[49m\u001b[43m)\u001b[49m\u001b[43m,\u001b[49m\n\u001b[32m     27\u001b[39m \u001b[43m                    \u001b[49m\u001b[43mUnfoldPass\u001b[49m\u001b[43m(\u001b[49m\u001b[43m)\u001b[49m\u001b[43m,\u001b[49m\n\u001b[32m     28\u001b[39m \u001b[43m                    \u001b[49m\u001b[43mPrintCNOTsPass\u001b[49m\u001b[43m(\u001b[49m\u001b[43m)\u001b[49m\u001b[43m,\u001b[49m\n\u001b[32m     29\u001b[39m \u001b[43m                \u001b[49m\u001b[43m]\u001b[49m\n\u001b[32m     30\u001b[39m \u001b[43m            \u001b[49m\u001b[43m)\u001b[49m\n\u001b[32m     31\u001b[39m \u001b[43m        \u001b[49m\u001b[43m]\u001b[49m\n\u001b[32m     32\u001b[39m \u001b[43m    \u001b[49m\u001b[43m)\u001b[49m\n\u001b[32m     34\u001b[39m \u001b[38;5;28;01mfor\u001b[39;00m gate \u001b[38;5;129;01min\u001b[39;00m synthesized_circuit.gate_set:\n\u001b[32m     35\u001b[39m     \u001b[38;5;28mprint\u001b[39m(\u001b[33mf\u001b[39m\u001b[33m\"\u001b[39m\u001b[38;5;132;01m{\u001b[39;00mgate\u001b[38;5;132;01m}\u001b[39;00m\u001b[33m Count:\u001b[39m\u001b[33m\"\u001b[39m, synthesized_circuit.count(gate))\n",
      "\u001b[36mFile \u001b[39m\u001b[32mc:\\Users\\A.C.EA\\Documents\\GitHub\\bqskit\\.venv\\Lib\\site-packages\\bqskit\\compiler\\compiler.py:397\u001b[39m, in \u001b[36mCompiler.compile\u001b[39m\u001b[34m(self, circuit, workflow, request_data, logging_level, max_logging_depth, data)\u001b[39m\n\u001b[32m    389\u001b[39m \u001b[38;5;250m\u001b[39m\u001b[33;03m\"\"\"Submit a task, wait for its results; see :func:`submit` for more.\"\"\"\u001b[39;00m\n\u001b[32m    390\u001b[39m task_id = \u001b[38;5;28mself\u001b[39m.submit(\n\u001b[32m    391\u001b[39m     circuit,\n\u001b[32m    392\u001b[39m     workflow,\n\u001b[32m   (...)\u001b[39m\u001b[32m    395\u001b[39m     max_logging_depth,\n\u001b[32m    396\u001b[39m )\n\u001b[32m--> \u001b[39m\u001b[32m397\u001b[39m result = \u001b[38;5;28;43mself\u001b[39;49m\u001b[43m.\u001b[49m\u001b[43mresult\u001b[49m\u001b[43m(\u001b[49m\u001b[43mtask_id\u001b[49m\u001b[43m)\u001b[49m\n\u001b[32m    399\u001b[39m \u001b[38;5;66;03m# Ensure arrival of all log messages\u001b[39;00m\n\u001b[32m    400\u001b[39m time.sleep(\u001b[32m0.05\u001b[39m \u001b[38;5;28;01mif\u001b[39;00m \u001b[38;5;28mself\u001b[39m.p \u001b[38;5;129;01mis\u001b[39;00m \u001b[38;5;129;01mnot\u001b[39;00m \u001b[38;5;28;01mNone\u001b[39;00m \u001b[38;5;28;01melse\u001b[39;00m \u001b[32m0.5\u001b[39m)\n",
      "\u001b[36mFile \u001b[39m\u001b[32mc:\\Users\\A.C.EA\\Documents\\GitHub\\bqskit\\.venv\\Lib\\site-packages\\bqskit\\compiler\\compiler.py:332\u001b[39m, in \u001b[36mCompiler.result\u001b[39m\u001b[34m(self, task_id)\u001b[39m\n\u001b[32m    330\u001b[39m \u001b[38;5;28;01mdef\u001b[39;00m\u001b[38;5;250m \u001b[39m\u001b[34mresult\u001b[39m(\u001b[38;5;28mself\u001b[39m, task_id: uuid.UUID) -> Circuit | \u001b[38;5;28mtuple\u001b[39m[Circuit, PassData]:\n\u001b[32m    331\u001b[39m \u001b[38;5;250m    \u001b[39m\u001b[33;03m\"\"\"Block until the task is finished, return its result.\"\"\"\u001b[39;00m\n\u001b[32m--> \u001b[39m\u001b[32m332\u001b[39m     msg, payload = \u001b[38;5;28;43mself\u001b[39;49m\u001b[43m.\u001b[49m\u001b[43m_send_recv\u001b[49m\u001b[43m(\u001b[49m\u001b[43mRuntimeMessage\u001b[49m\u001b[43m.\u001b[49m\u001b[43mREQUEST\u001b[49m\u001b[43m,\u001b[49m\u001b[43m \u001b[49m\u001b[43mtask_id\u001b[49m\u001b[43m)\u001b[49m\n\u001b[32m    333\u001b[39m     \u001b[38;5;28;01mif\u001b[39;00m msg != RuntimeMessage.RESULT:\n\u001b[32m    334\u001b[39m         \u001b[38;5;28;01mraise\u001b[39;00m \u001b[38;5;167;01mRuntimeError\u001b[39;00m(\u001b[33mf\u001b[39m\u001b[33m'\u001b[39m\u001b[33mUnexpected message type: \u001b[39m\u001b[38;5;132;01m{\u001b[39;00mmsg\u001b[38;5;132;01m}\u001b[39;00m\u001b[33m.\u001b[39m\u001b[33m'\u001b[39m)\n",
      "\u001b[36mFile \u001b[39m\u001b[32mc:\\Users\\A.C.EA\\Documents\\GitHub\\bqskit\\.venv\\Lib\\site-packages\\bqskit\\compiler\\compiler.py:444\u001b[39m, in \u001b[36mCompiler._send_recv\u001b[39m\u001b[34m(self, msg, payload)\u001b[39m\n\u001b[32m    442\u001b[39m \u001b[38;5;28mself\u001b[39m.conn = \u001b[38;5;28;01mNone\u001b[39;00m\n\u001b[32m    443\u001b[39m \u001b[38;5;28mself\u001b[39m.close()\n\u001b[32m--> \u001b[39m\u001b[32m444\u001b[39m \u001b[38;5;28;01mraise\u001b[39;00m \u001b[38;5;167;01mRuntimeError\u001b[39;00m(\u001b[33m'\u001b[39m\u001b[33mServer connection unexpectedly closed.\u001b[39m\u001b[33m'\u001b[39m) \u001b[38;5;28;01mfrom\u001b[39;00m\u001b[38;5;250m \u001b[39m\u001b[34;01me\u001b[39;00m\n",
      "\u001b[31mRuntimeError\u001b[39m: Server connection unexpectedly closed."
     ]
    }
   ],
   "source": [
    "from bqskit.compiler import BasePass\n",
    "from bqskit.passes import WhileLoopPass, GateCountPredicate\n",
    "from bqskit.ir.gates import CXGate\n",
    "\n",
    "# Defining a new pass is as easy as implementing a `run` function.\n",
    "# In this pass, we just print some information about the circuit\n",
    "class PrintCNOTsPass(BasePass):\n",
    "    def run(self, circuit, data) -> None:\n",
    "        print(\"Current CNOT count:\", circuit.count(CXGate()))\n",
    "\n",
    "with Compiler() as compiler:\n",
    "    synthesized_circuit = compiler.compile(\n",
    "        circuit,\n",
    "        [\n",
    "            PrintCNOTsPass(),\n",
    "            WhileLoopPass(\n",
    "                GateCountPredicate(CXGate()),\n",
    "                [\n",
    "                    QuickPartitioner(3),\n",
    "                    ForEachBlockPass(\n",
    "                        [\n",
    "                            QSearchSynthesisPass(),\n",
    "                            ScanningGateRemovalPass()\n",
    "                        ],\n",
    "                        replace_filter=less_2q_gates\n",
    "                    ),\n",
    "                    UnfoldPass(),\n",
    "                    PrintCNOTsPass(),\n",
    "                ]\n",
    "            )\n",
    "        ]\n",
    "    )\n",
    "\n",
    "for gate in synthesized_circuit.gate_set:\n",
    "    print(f\"{gate} Count:\", synthesized_circuit.count(gate))"
   ]
  },
  {
   "cell_type": "markdown",
   "id": "bd8b0f1f",
   "metadata": {},
   "source": [
    "There's a lot new in the above example. First, we defined a new pass by subclassing `BasePass` and implementing a `run` method. This pass just prints the number of Controlled-not gates in the circuit when executed. We then use this before and inside a `WhileLoopPass` to see the progress of execution. Second, we perform a `WhileLoopPass` which takes a predicate and a sequence of passes. It will apply the passes supplied until the predicate produces false. We supplied a `GateCountPredicate` which evaluates to False when the specific gate count stops changing."
   ]
  }
 ],
 "metadata": {
  "kernelspec": {
   "display_name": ".venv",
   "language": "python",
   "name": "python3"
  },
  "language_info": {
   "codemirror_mode": {
    "name": "ipython",
    "version": 3
   },
   "file_extension": ".py",
   "mimetype": "text/x-python",
   "name": "python",
   "nbconvert_exporter": "python",
   "pygments_lexer": "ipython3",
   "version": "3.11.9"
  }
 },
 "nbformat": 4,
 "nbformat_minor": 5
}
