{
 "cells": [
  {
   "cell_type": "markdown",
   "source": [
    "# BQSKit Intermediate Representation (IR) Tutorial\n",
    "\n",
    "This tutorial will introduce a user to the core objects in the BQSKit package, as well as, how to manipulate them."
   ],
   "metadata": {}
  },
  {
   "cell_type": "markdown",
   "source": [
    "## 1. Unitary Matrices\n",
    "\n",
    "In BQSKit, most objects are part of the unitary class hierarchy. The base class, `Unitary`, represents a map from zero or more real numbers to a unitary matrix. All `Unitary` objects have a `get_unitary` method which takes in the unitaries parameters and returns the concrete `UnitaryMatrix` object.\n",
    "\n",
    "In the next section, we will learn more about gates, but for now we will use two well known gates to learn about `Unitary` objects."
   ],
   "metadata": {}
  },
  {
   "cell_type": "code",
   "execution_count": 1,
   "source": [
    "from bqskit.ir.gates import CNOTGate, RZGate\n",
    "\n",
    "cnot = CNOTGate() # The constant Controlled-Not gate\n",
    "rz = RZGate() # Z-Rotation gate that takes one angle as a parameter"
   ],
   "outputs": [],
   "metadata": {}
  },
  {
   "cell_type": "markdown",
   "source": [
    "In this first exercise, let's ensure these gates are part of the unitary class hierarchy."
   ],
   "metadata": {}
  },
  {
   "cell_type": "code",
   "execution_count": 2,
   "source": [
    "from bqskit.qis.unitary import Unitary\n",
    "\n",
    "assert isinstance(cnot, Unitary)\n",
    "assert isinstance(rz, Unitary)"
   ],
   "outputs": [],
   "metadata": {}
  },
  {
   "cell_type": "markdown",
   "source": [
    "All `Unitary` objects contain a `get_unitary` method that takes zero or more parameters and returns a `UnitaryMatrix`. In this excersie, we will calculate the matrix for both gates. Try changing the parameters, do you get what you expect to get?"
   ],
   "metadata": {}
  },
  {
   "cell_type": "code",
   "execution_count": 5,
   "source": [
    "cnot_utry = cnot.get_unitary()\n",
    "rz_utry = rz.get_unitary([0])\n",
    "\n",
    "print(\"CNOT's Unitary\")\n",
    "print(cnot_utry)\n",
    "print()\n",
    "\n",
    "print(\"RZ's Unitary\")\n",
    "print(rz_utry)"
   ],
   "outputs": [
    {
     "output_type": "stream",
     "name": "stdout",
     "text": [
      "CNOT's Unitary\n",
      "[[1.+0.j 0.+0.j 0.+0.j 0.+0.j]\n",
      " [0.+0.j 1.+0.j 0.+0.j 0.+0.j]\n",
      " [0.+0.j 0.+0.j 0.+0.j 1.+0.j]\n",
      " [0.+0.j 0.+0.j 1.+0.j 0.+0.j]]\n",
      "\n",
      "RZ's Unitary\n",
      "[[0.98877108-0.14943813j 0.        +0.j        ]\n",
      " [0.        +0.j         0.98877108+0.14943813j]]\n"
     ]
    }
   ],
   "metadata": {}
  },
  {
   "cell_type": "markdown",
   "source": [
    "We can ask the `Unitary` for the number of parameters in takes in its `get_unitary` method."
   ],
   "metadata": {}
  },
  {
   "cell_type": "code",
   "execution_count": 6,
   "source": [
    "assert cnot.num_params == 0\n",
    "assert rz.num_params == 1\n",
    "\n",
    "# The cnot gate is constant since it takes zero parameters\n",
    "assert cnot.is_constant()\n",
    "\n",
    "# The rz gate is not constant and hence parameterized since it takes one or more parameters\n",
    "assert rz.is_parameterized()"
   ],
   "outputs": [],
   "metadata": {}
  },
  {
   "cell_type": "markdown",
   "source": [
    "`Unitary` objects in BQSKit support arbitrary qudits rather than just qubits. Each `Unitary` has a `get_radixes` method that returns a list containing the base for each qudit the Unitary acts on. Try creating another mixed-base `Unitary` in the following code."
   ],
   "metadata": {}
  },
  {
   "cell_type": "code",
   "execution_count": 15,
   "source": [
    "from bqskit.qis.unitary import UnitaryMatrix\n",
    "\n",
    "# Generate a random unitary sampled from the Haar random distribituion\n",
    "utry = UnitaryMatrix.random(4)\n",
    "assert utry.num_qudits == 4\n",
    "assert utry.is_qubit_only()\n",
    "\n",
    "# The random generation also takes an optional parameter `radixes`.\n",
    "utry_qutrit = UnitaryMatrix.random(4, [3, 3, 3, 3])\n",
    "assert utry_qutrit.num_qudits == 4\n",
    "assert utry_qutrit.is_qutrit_only()\n",
    "\n",
    "utry_mixed = UnitaryMatrix.random(3, [2, 3, 4])\n",
    "assert utry_mixed.num_qudits == 3\n",
    "assert utry_mixed.radixes == (2, 3, 4)"
   ],
   "outputs": [],
   "metadata": {}
  },
  {
   "cell_type": "markdown",
   "source": [
    "`UnitaryMatrix` objects are concrete matrices that are also constant `Unitary` objects. They support most of the numpy api and for the most part can be used like normal numpy arrays. If you perform an operation that is closed for unitaries (conjugate, transpose, matmul, ...) the resulting object will remain a `UnitaryMatrix` object, otherwise it will downgrade to a `np.ndarray`."
   ],
   "metadata": {}
  },
  {
   "cell_type": "code",
   "execution_count": 18,
   "source": [
    "assert isinstance(utry, Unitary)\n",
    "\n",
    "import numpy as np\n",
    "utry1 = UnitaryMatrix.random(2)\n",
    "utry2 = UnitaryMatrix.random(2)\n",
    "utry3 = utry1 @ utry2\n",
    "utry4 = np.kron(utry3, UnitaryMatrix.identity(1))\n",
    "print(utry4)\n",
    "assert isinstance(utry4, UnitaryMatrix)"
   ],
   "outputs": [
    {
     "output_type": "stream",
     "name": "stdout",
     "text": [
      "[[ 0.48631694-0.48737702j -0.51316014+0.09027776j -0.40648524+0.19054718j\n",
      "   0.22377464-0.05350239j]\n",
      " [-0.26484955+0.33631281j -0.65019141+0.42901655j -0.08600916-0.15602559j\n",
      "  -0.31121789+0.28521255j]\n",
      " [-0.2600829 +0.5236309j  -0.1237414 -0.11892378j -0.3255275 +0.48157631j\n",
      "   0.37610165-0.38649246j]\n",
      " [ 0.01204634-0.0270246j   0.266184  -0.14630038j -0.53729726+0.37436309j\n",
      "  -0.66588016+0.18610312j]]\n",
      "(-2.7800190357347017+1.5213940441512723j)\n"
     ]
    },
    {
     "output_type": "error",
     "ename": "AssertionError",
     "evalue": "",
     "traceback": [
      "\u001b[0;31m---------------------------------------------------------------------------\u001b[0m",
      "\u001b[0;31mAssertionError\u001b[0m                            Traceback (most recent call last)",
      "\u001b[0;32m<ipython-input-18-46cdac49a5b4>\u001b[0m in \u001b[0;36m<module>\u001b[0;34m\u001b[0m\n\u001b[1;32m      8\u001b[0m \u001b[0mprint\u001b[0m\u001b[0;34m(\u001b[0m\u001b[0mutry4\u001b[0m\u001b[0;34m)\u001b[0m\u001b[0;34m\u001b[0m\u001b[0;34m\u001b[0m\u001b[0m\n\u001b[1;32m      9\u001b[0m \u001b[0mprint\u001b[0m\u001b[0;34m(\u001b[0m\u001b[0mnp\u001b[0m\u001b[0;34m.\u001b[0m\u001b[0msum\u001b[0m\u001b[0;34m(\u001b[0m\u001b[0mutry4\u001b[0m\u001b[0;34m)\u001b[0m\u001b[0;34m)\u001b[0m\u001b[0;34m\u001b[0m\u001b[0;34m\u001b[0m\u001b[0m\n\u001b[0;32m---> 10\u001b[0;31m \u001b[0;32massert\u001b[0m \u001b[0misinstance\u001b[0m\u001b[0;34m(\u001b[0m\u001b[0mutry4\u001b[0m\u001b[0;34m,\u001b[0m \u001b[0mUnitaryMatrix\u001b[0m\u001b[0;34m)\u001b[0m\u001b[0;34m\u001b[0m\u001b[0;34m\u001b[0m\u001b[0m\n\u001b[0m",
      "\u001b[0;31mAssertionError\u001b[0m: "
     ]
    }
   ],
   "metadata": {}
  },
  {
   "cell_type": "code",
   "execution_count": null,
   "source": [],
   "outputs": [],
   "metadata": {}
  }
 ],
 "metadata": {
  "kernelspec": {
   "name": "python3",
   "display_name": "Python 3.9.4 64-bit"
  },
  "language_info": {
   "codemirror_mode": {
    "name": "ipython",
    "version": 3
   },
   "file_extension": ".py",
   "mimetype": "text/x-python",
   "name": "python",
   "nbconvert_exporter": "python",
   "pygments_lexer": "ipython3",
   "version": "3.9.4"
  },
  "orig_nbformat": 2,
  "interpreter": {
   "hash": "767d51c1340bd893661ea55ea3124f6de3c7a262a8b4abca0554b478b1e2ff90"
  }
 },
 "nbformat": 4,
 "nbformat_minor": 2
}
